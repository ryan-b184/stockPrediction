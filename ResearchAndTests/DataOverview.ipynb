{
 "cells": [
  {
   "cell_type": "code",
   "execution_count": 2,
   "metadata": {},
   "outputs": [],
   "source": [
    "'''imports'''\n",
    "'''This file is used to veiw a sample of this dataset and understand what information it contains:\n",
    "    https://www.kaggle.com/datasets/borismarjanovic/price-volume-data-for-all-us-stocks-etfs \n",
    " '''\n",
    "import sklearn as sk\n",
    "import pandas as pd\n",
    "import numpy as np\n",
    "import matplotlib.pyplot as plt"
   ]
  },
  {
   "cell_type": "code",
   "execution_count": 8,
   "metadata": {},
   "outputs": [
    {
     "name": "stdout",
     "output_type": "stream",
     "text": [
      "Date       1999-11-18\n",
      "Open           30.713\n",
      "High           33.754\n",
      "Low            27.002\n",
      "Close          29.702\n",
      "Volume       66277506\n",
      "OpenInt             0\n",
      "Name: 0, dtype: object\n"
     ]
    }
   ],
   "source": [
    "'''importing the dataset '''\n",
    "#returns a pandas dataframe\n",
    "#each stock is represented by an OHLC chart (open, high, low, close)\n",
    "df = pd.read_csv('../../Datasets/StockPricesData/Stocks/a.us.txt')\n",
    "# print(df)\n",
    "print(df.iloc[0])\n",
    "\n"
   ]
  },
  {
   "cell_type": "code",
   "execution_count": 16,
   "metadata": {},
   "outputs": [
    {
     "data": {
      "image/png": "[encoded data removed]",
      "text/plain": [
       "<Figure size 640x480 with 1 Axes>"
      ]
     },
     "metadata": {},
     "output_type": "display_data"
    }
   ],
   "source": [
    "'''mapping out the dataset'''\n",
    "#mapping out a candlestick chart as it shows the same information and\n",
    "#is easier to read\n",
    "\n",
    "plt.figure()\n",
    "\n",
    "#split each data source into its own arrays\n",
    "#up represents when the stock increases\n",
    "up = df[df.Close >= df.Open]\n",
    "down = df[df.Close < df.Open]\n",
    "\n",
    "\n",
    "#plotting the UP bars\n",
    "plt.bar(up.index, up.Close-up.Open, 0.3, bottom=up.Open, color='green')\n",
    "plt.bar(up.index, up.High-up.Close, 0.03, bottom=up.Close, color='green')\n",
    "plt.bar(up.index, up.Low-up.Open, 0.03, bottom=up.Open, color='green')\n",
    "\n",
    "#plotting the DOWN bars \n",
    "plt.bar(down.index, down.Close-down.Open, 0.3, bottom=down.Open, color='red')\n",
    "plt.bar(down.index, down.High-down.Open, 0.03, bottom=down.Open, color='red')\n",
    "plt.bar(down.index, down.Low-down.Close, 0.03, bottom=down.Close, color='red')\n",
    "\n",
    "#rotates the xlabels and limiting how much is shown\n",
    "plt.xticks(rotation=30, ha='right')\n",
    "plt.xlim([0, 60])\n",
    "plt.show()\n"
   ]
  }
 ],
 "metadata": {
  "kernelspec": {
   "display_name": "SKLearnEnv",
   "language": "python",
   "name": "python3"
  },
  "language_info": {
   "codemirror_mode": {
    "name": "ipython",
    "version": 3
   },
   "file_extension": ".py",
   "mimetype": "text/x-python",
   "name": "python",
   "nbconvert_exporter": "python",
   "pygments_lexer": "ipython3",
   "version": "3.11.7"
  }
 },
 "nbformat": 4,
 "nbformat_minor": 2
}

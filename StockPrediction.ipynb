{
 "cells": [
  {
   "cell_type": "code",
   "execution_count": 14,
   "metadata": {},
   "outputs": [],
   "source": [
    "'''imports'''\n",
    "'''This file is used for the prediction of stock prices based upon the dataset located here:\n",
    "    https://www.kaggle.com/datasets/borismarjanovic/price-volume-data-for-all-us-stocks-etfs \n",
    "    data import, model training, and model testing will all be included in this file\n",
    " '''\n",
    "#main imports\n",
    "import sklearn as sk\n",
    "import pandas as pd\n",
    "import numpy as np\n",
    "import matplotlib.pyplot as plt\n"
   ]
  },
  {
   "cell_type": "code",
   "execution_count": 13,
   "metadata": {},
   "outputs": [
    {
     "name": "stdout",
     "output_type": "stream",
     "text": [
      "(4521, 7)\n",
      "(3616, 7)\n",
      "(905, 7)\n"
     ]
    }
   ],
   "source": [
    "'''importing the data'''\n",
    "df = pd.read_csv('../Datasets/StockPricesData/Stocks/a.us.txt')\n",
    "\n",
    "#train test split\n",
    "size = df.shape[0]\n",
    "size80 = int(size*0.8)\n",
    "\n",
    "dfTrain = df.iloc[:size80] #grabs the train section of the data\n",
    "dfTest = df.iloc[size80:] #grabs the test data\n",
    "\n",
    "print(df.shape)\n",
    "print(dfTrain.shape)\n",
    "print(dfTest.shape)\n",
    "\n"
   ]
  },
  {
   "cell_type": "code",
   "execution_count": null,
   "metadata": {},
   "outputs": [],
   "source": []
  }
 ],
 "metadata": {
  "kernelspec": {
   "display_name": "SKLearnEnv",
   "language": "python",
   "name": "python3"
  },
  "language_info": {
   "codemirror_mode": {
    "name": "ipython",
    "version": 3
   },
   "file_extension": ".py",
   "mimetype": "text/x-python",
   "name": "python",
   "nbconvert_exporter": "python",
   "pygments_lexer": "ipython3",
   "version": "3.11.7"
  }
 },
 "nbformat": 4,
 "nbformat_minor": 2
}

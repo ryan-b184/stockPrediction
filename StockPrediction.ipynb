{
 "cells": [
  {
   "cell_type": "code",
   "execution_count": null,
   "metadata": {},
   "outputs": [],
   "source": [
    "'''imports'''\n",
    "'''This file is used for the prediction of stock prices based upon the dataset located here:\n",
    "    https://www.kaggle.com/datasets/borismarjanovic/price-volume-data-for-all-us-stocks-etfs \n",
    "    data import, model training, and model testing will all be included in this file\n",
    " '''\n",
    "import sklearn as sk\n",
    "import pandas as pd\n",
    "import numpy as np\n",
    "import matplotlib.pyplot as plt"
   ]
  },
  {
   "cell_type": "code",
   "execution_count": null,
   "metadata": {},
   "outputs": [],
   "source": [
    "'''importing the data'''\n",
    "df = pd.read_csv('../Datasets/StockPricesData/Stocks/a.us.txt')"
   ]
  }
 ],
 "metadata": {
  "kernelspec": {
   "display_name": "SKLearnEnv",
   "language": "python",
   "name": "python3"
  },
  "language_info": {
   "name": "python",
   "version": "3.11.7"
  }
 },
 "nbformat": 4,
 "nbformat_minor": 2
}
